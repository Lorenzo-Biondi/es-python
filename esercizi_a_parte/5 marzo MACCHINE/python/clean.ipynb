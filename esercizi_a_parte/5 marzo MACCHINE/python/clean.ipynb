{
 "cells": [
  {
   "cell_type": "markdown",
   "metadata": {},
   "source": [
    "# SETUP"
   ]
  },
  {
   "cell_type": "code",
   "execution_count": 8,
   "metadata": {},
   "outputs": [],
   "source": [
    "import pandas as pd\n",
    "import numpy as np\n",
    "import seaborn as sb\n",
    "import matplotlib.pyplot as plt\n",
    "from math import log"
   ]
  },
  {
   "cell_type": "code",
   "execution_count": 9,
   "metadata": {},
   "outputs": [],
   "source": [
    "car_sales_df = pd.read_csv(\"/Users/lorenzo/Desktop/Programmazione/python/5 marzo MACCHINE/data/car_prices.csv\",sep=\",\")"
   ]
  },
  {
   "cell_type": "code",
   "execution_count": 10,
   "metadata": {},
   "outputs": [
    {
     "data": {
      "text/html": [
       "<div>\n",
       "<style scoped>\n",
       "    .dataframe tbody tr th:only-of-type {\n",
       "        vertical-align: middle;\n",
       "    }\n",
       "\n",
       "    .dataframe tbody tr th {\n",
       "        vertical-align: top;\n",
       "    }\n",
       "\n",
       "    .dataframe thead th {\n",
       "        text-align: right;\n",
       "    }\n",
       "</style>\n",
       "<table border=\"1\" class=\"dataframe\">\n",
       "  <thead>\n",
       "    <tr style=\"text-align: right;\">\n",
       "      <th></th>\n",
       "      <th>year</th>\n",
       "      <th>make</th>\n",
       "      <th>model</th>\n",
       "      <th>trim</th>\n",
       "      <th>body</th>\n",
       "      <th>transmission</th>\n",
       "      <th>vin</th>\n",
       "      <th>state</th>\n",
       "      <th>condition</th>\n",
       "      <th>odometer</th>\n",
       "      <th>color</th>\n",
       "      <th>interior</th>\n",
       "      <th>seller</th>\n",
       "      <th>mmr</th>\n",
       "      <th>sellingprice</th>\n",
       "      <th>saledate</th>\n",
       "    </tr>\n",
       "  </thead>\n",
       "  <tbody>\n",
       "    <tr>\n",
       "      <th>0</th>\n",
       "      <td>2015</td>\n",
       "      <td>Kia</td>\n",
       "      <td>Sorento</td>\n",
       "      <td>LX</td>\n",
       "      <td>SUV</td>\n",
       "      <td>automatic</td>\n",
       "      <td>5xyktca69fg566472</td>\n",
       "      <td>ca</td>\n",
       "      <td>5.0</td>\n",
       "      <td>16639.0</td>\n",
       "      <td>white</td>\n",
       "      <td>black</td>\n",
       "      <td>kia motors america  inc</td>\n",
       "      <td>20500.0</td>\n",
       "      <td>21500.0</td>\n",
       "      <td>Tue Dec 16 2014 12:30:00 GMT-0800 (PST)</td>\n",
       "    </tr>\n",
       "    <tr>\n",
       "      <th>1</th>\n",
       "      <td>2015</td>\n",
       "      <td>Kia</td>\n",
       "      <td>Sorento</td>\n",
       "      <td>LX</td>\n",
       "      <td>SUV</td>\n",
       "      <td>automatic</td>\n",
       "      <td>5xyktca69fg561319</td>\n",
       "      <td>ca</td>\n",
       "      <td>5.0</td>\n",
       "      <td>9393.0</td>\n",
       "      <td>white</td>\n",
       "      <td>beige</td>\n",
       "      <td>kia motors america  inc</td>\n",
       "      <td>20800.0</td>\n",
       "      <td>21500.0</td>\n",
       "      <td>Tue Dec 16 2014 12:30:00 GMT-0800 (PST)</td>\n",
       "    </tr>\n",
       "    <tr>\n",
       "      <th>2</th>\n",
       "      <td>2014</td>\n",
       "      <td>BMW</td>\n",
       "      <td>3 Series</td>\n",
       "      <td>328i SULEV</td>\n",
       "      <td>Sedan</td>\n",
       "      <td>automatic</td>\n",
       "      <td>wba3c1c51ek116351</td>\n",
       "      <td>ca</td>\n",
       "      <td>45.0</td>\n",
       "      <td>1331.0</td>\n",
       "      <td>gray</td>\n",
       "      <td>black</td>\n",
       "      <td>financial services remarketing (lease)</td>\n",
       "      <td>31900.0</td>\n",
       "      <td>30000.0</td>\n",
       "      <td>Thu Jan 15 2015 04:30:00 GMT-0800 (PST)</td>\n",
       "    </tr>\n",
       "    <tr>\n",
       "      <th>3</th>\n",
       "      <td>2015</td>\n",
       "      <td>Volvo</td>\n",
       "      <td>S60</td>\n",
       "      <td>T5</td>\n",
       "      <td>Sedan</td>\n",
       "      <td>automatic</td>\n",
       "      <td>yv1612tb4f1310987</td>\n",
       "      <td>ca</td>\n",
       "      <td>41.0</td>\n",
       "      <td>14282.0</td>\n",
       "      <td>white</td>\n",
       "      <td>black</td>\n",
       "      <td>volvo na rep/world omni</td>\n",
       "      <td>27500.0</td>\n",
       "      <td>27750.0</td>\n",
       "      <td>Thu Jan 29 2015 04:30:00 GMT-0800 (PST)</td>\n",
       "    </tr>\n",
       "    <tr>\n",
       "      <th>4</th>\n",
       "      <td>2014</td>\n",
       "      <td>BMW</td>\n",
       "      <td>6 Series Gran Coupe</td>\n",
       "      <td>650i</td>\n",
       "      <td>Sedan</td>\n",
       "      <td>automatic</td>\n",
       "      <td>wba6b2c57ed129731</td>\n",
       "      <td>ca</td>\n",
       "      <td>43.0</td>\n",
       "      <td>2641.0</td>\n",
       "      <td>gray</td>\n",
       "      <td>black</td>\n",
       "      <td>financial services remarketing (lease)</td>\n",
       "      <td>66000.0</td>\n",
       "      <td>67000.0</td>\n",
       "      <td>Thu Dec 18 2014 12:30:00 GMT-0800 (PST)</td>\n",
       "    </tr>\n",
       "  </tbody>\n",
       "</table>\n",
       "</div>"
      ],
      "text/plain": [
       "   year   make                model        trim   body transmission  \\\n",
       "0  2015    Kia              Sorento          LX    SUV    automatic   \n",
       "1  2015    Kia              Sorento          LX    SUV    automatic   \n",
       "2  2014    BMW             3 Series  328i SULEV  Sedan    automatic   \n",
       "3  2015  Volvo                  S60          T5  Sedan    automatic   \n",
       "4  2014    BMW  6 Series Gran Coupe        650i  Sedan    automatic   \n",
       "\n",
       "                 vin state  condition  odometer  color interior  \\\n",
       "0  5xyktca69fg566472    ca        5.0   16639.0  white    black   \n",
       "1  5xyktca69fg561319    ca        5.0    9393.0  white    beige   \n",
       "2  wba3c1c51ek116351    ca       45.0    1331.0   gray    black   \n",
       "3  yv1612tb4f1310987    ca       41.0   14282.0  white    black   \n",
       "4  wba6b2c57ed129731    ca       43.0    2641.0   gray    black   \n",
       "\n",
       "                                   seller      mmr  sellingprice  \\\n",
       "0                 kia motors america  inc  20500.0       21500.0   \n",
       "1                 kia motors america  inc  20800.0       21500.0   \n",
       "2  financial services remarketing (lease)  31900.0       30000.0   \n",
       "3                 volvo na rep/world omni  27500.0       27750.0   \n",
       "4  financial services remarketing (lease)  66000.0       67000.0   \n",
       "\n",
       "                                  saledate  \n",
       "0  Tue Dec 16 2014 12:30:00 GMT-0800 (PST)  \n",
       "1  Tue Dec 16 2014 12:30:00 GMT-0800 (PST)  \n",
       "2  Thu Jan 15 2015 04:30:00 GMT-0800 (PST)  \n",
       "3  Thu Jan 29 2015 04:30:00 GMT-0800 (PST)  \n",
       "4  Thu Dec 18 2014 12:30:00 GMT-0800 (PST)  "
      ]
     },
     "execution_count": 10,
     "metadata": {},
     "output_type": "execute_result"
    }
   ],
   "source": [
    "car_sales_df.head()\n",
    "#DATAFRAME CORRETTAMENTE IMPORTATO"
   ]
  },
  {
   "cell_type": "code",
   "execution_count": 11,
   "metadata": {},
   "outputs": [],
   "source": [
    "#COPIA DATAFRAME\n",
    "df = car_sales_df.copy()\n",
    "\n"
   ]
  },
  {
   "cell_type": "markdown",
   "metadata": {},
   "source": [
    "# ANALISI ESPLORATIVA"
   ]
  },
  {
   "cell_type": "code",
   "execution_count": 12,
   "metadata": {},
   "outputs": [
    {
     "name": "stdout",
     "output_type": "stream",
     "text": [
      "<class 'pandas.core.frame.DataFrame'>\n",
      "RangeIndex: 558837 entries, 0 to 558836\n",
      "Data columns (total 16 columns):\n",
      " #   Column        Non-Null Count   Dtype  \n",
      "---  ------        --------------   -----  \n",
      " 0   year          558837 non-null  int64  \n",
      " 1   make          548536 non-null  object \n",
      " 2   model         548438 non-null  object \n",
      " 3   trim          548186 non-null  object \n",
      " 4   body          545642 non-null  object \n",
      " 5   transmission  493485 non-null  object \n",
      " 6   vin           558833 non-null  object \n",
      " 7   state         558837 non-null  object \n",
      " 8   condition     547017 non-null  float64\n",
      " 9   odometer      558743 non-null  float64\n",
      " 10  color         558088 non-null  object \n",
      " 11  interior      558088 non-null  object \n",
      " 12  seller        558837 non-null  object \n",
      " 13  mmr           558799 non-null  float64\n",
      " 14  sellingprice  558825 non-null  float64\n",
      " 15  saledate      558825 non-null  object \n",
      "dtypes: float64(4), int64(1), object(11)\n",
      "memory usage: 68.2+ MB\n"
     ]
    }
   ],
   "source": [
    "\n",
    "df.info()"
   ]
  },
  {
   "cell_type": "code",
   "execution_count": 13,
   "metadata": {},
   "outputs": [
    {
     "data": {
      "text/html": [
       "<div>\n",
       "<style scoped>\n",
       "    .dataframe tbody tr th:only-of-type {\n",
       "        vertical-align: middle;\n",
       "    }\n",
       "\n",
       "    .dataframe tbody tr th {\n",
       "        vertical-align: top;\n",
       "    }\n",
       "\n",
       "    .dataframe thead th {\n",
       "        text-align: right;\n",
       "    }\n",
       "</style>\n",
       "<table border=\"1\" class=\"dataframe\">\n",
       "  <thead>\n",
       "    <tr style=\"text-align: right;\">\n",
       "      <th></th>\n",
       "      <th>year</th>\n",
       "      <th>condition</th>\n",
       "      <th>odometer</th>\n",
       "      <th>mmr</th>\n",
       "      <th>sellingprice</th>\n",
       "    </tr>\n",
       "  </thead>\n",
       "  <tbody>\n",
       "    <tr>\n",
       "      <th>count</th>\n",
       "      <td>558837.000000</td>\n",
       "      <td>547017.000000</td>\n",
       "      <td>558743.000000</td>\n",
       "      <td>558799.000000</td>\n",
       "      <td>558825.000000</td>\n",
       "    </tr>\n",
       "    <tr>\n",
       "      <th>mean</th>\n",
       "      <td>2010.038927</td>\n",
       "      <td>30.672365</td>\n",
       "      <td>68320.017767</td>\n",
       "      <td>13769.377495</td>\n",
       "      <td>13611.358810</td>\n",
       "    </tr>\n",
       "    <tr>\n",
       "      <th>std</th>\n",
       "      <td>3.966864</td>\n",
       "      <td>13.402832</td>\n",
       "      <td>53398.542821</td>\n",
       "      <td>9679.967174</td>\n",
       "      <td>9749.501628</td>\n",
       "    </tr>\n",
       "    <tr>\n",
       "      <th>min</th>\n",
       "      <td>1982.000000</td>\n",
       "      <td>1.000000</td>\n",
       "      <td>1.000000</td>\n",
       "      <td>25.000000</td>\n",
       "      <td>1.000000</td>\n",
       "    </tr>\n",
       "    <tr>\n",
       "      <th>25%</th>\n",
       "      <td>2007.000000</td>\n",
       "      <td>23.000000</td>\n",
       "      <td>28371.000000</td>\n",
       "      <td>7100.000000</td>\n",
       "      <td>6900.000000</td>\n",
       "    </tr>\n",
       "    <tr>\n",
       "      <th>50%</th>\n",
       "      <td>2012.000000</td>\n",
       "      <td>35.000000</td>\n",
       "      <td>52254.000000</td>\n",
       "      <td>12250.000000</td>\n",
       "      <td>12100.000000</td>\n",
       "    </tr>\n",
       "    <tr>\n",
       "      <th>75%</th>\n",
       "      <td>2013.000000</td>\n",
       "      <td>42.000000</td>\n",
       "      <td>99109.000000</td>\n",
       "      <td>18300.000000</td>\n",
       "      <td>18200.000000</td>\n",
       "    </tr>\n",
       "    <tr>\n",
       "      <th>max</th>\n",
       "      <td>2015.000000</td>\n",
       "      <td>49.000000</td>\n",
       "      <td>999999.000000</td>\n",
       "      <td>182000.000000</td>\n",
       "      <td>230000.000000</td>\n",
       "    </tr>\n",
       "  </tbody>\n",
       "</table>\n",
       "</div>"
      ],
      "text/plain": [
       "                year      condition       odometer            mmr  \\\n",
       "count  558837.000000  547017.000000  558743.000000  558799.000000   \n",
       "mean     2010.038927      30.672365   68320.017767   13769.377495   \n",
       "std         3.966864      13.402832   53398.542821    9679.967174   \n",
       "min      1982.000000       1.000000       1.000000      25.000000   \n",
       "25%      2007.000000      23.000000   28371.000000    7100.000000   \n",
       "50%      2012.000000      35.000000   52254.000000   12250.000000   \n",
       "75%      2013.000000      42.000000   99109.000000   18300.000000   \n",
       "max      2015.000000      49.000000  999999.000000  182000.000000   \n",
       "\n",
       "        sellingprice  \n",
       "count  558825.000000  \n",
       "mean    13611.358810  \n",
       "std      9749.501628  \n",
       "min         1.000000  \n",
       "25%      6900.000000  \n",
       "50%     12100.000000  \n",
       "75%     18200.000000  \n",
       "max    230000.000000  "
      ]
     },
     "execution_count": 13,
     "metadata": {},
     "output_type": "execute_result"
    }
   ],
   "source": [
    "#TRAMITE DESCRIBE VEDIAMO CHE QUASI TUTTE LE COLONNE NUMERICHE HANNO UNA STD MOLTO ALTA\n",
    "df.describe()"
   ]
  },
  {
   "cell_type": "code",
   "execution_count": 14,
   "metadata": {},
   "outputs": [
    {
     "data": {
      "text/plain": [
       "year                0\n",
       "make            10301\n",
       "model           10399\n",
       "trim            10651\n",
       "body            13195\n",
       "transmission    65352\n",
       "vin                 4\n",
       "state               0\n",
       "condition       11820\n",
       "odometer           94\n",
       "color             749\n",
       "interior          749\n",
       "seller              0\n",
       "mmr                38\n",
       "sellingprice       12\n",
       "saledate           12\n",
       "dtype: int64"
      ]
     },
     "execution_count": 14,
     "metadata": {},
     "output_type": "execute_result"
    }
   ],
   "source": [
    "#GUARDIAMO QUANTI SONO I NULL PER OGNI COLONNA\n",
    "df.isnull().sum()"
   ]
  },
  {
   "cell_type": "code",
   "execution_count": 15,
   "metadata": {},
   "outputs": [],
   "source": [
    "#df.loc(df[\"make\"].isna() & df[\"model\"].isna())"
   ]
  },
  {
   "cell_type": "code",
   "execution_count": 16,
   "metadata": {},
   "outputs": [
    {
     "data": {
      "text/plain": [
       "year             0.000000\n",
       "make             1.843292\n",
       "model            1.860829\n",
       "trim             1.905922\n",
       "body             2.361154\n",
       "transmission    11.694287\n",
       "vin              0.000716\n",
       "state            0.000000\n",
       "condition        2.115107\n",
       "odometer         0.016821\n",
       "color            0.134028\n",
       "interior         0.134028\n",
       "seller           0.000000\n",
       "mmr              0.006800\n",
       "sellingprice     0.002147\n",
       "saledate         0.002147\n",
       "dtype: float64"
      ]
     },
     "execution_count": 16,
     "metadata": {},
     "output_type": "execute_result"
    }
   ],
   "source": [
    "#FREQUENZE PERCENTILI DEI NaN\n",
    "(df.isnull().sum()/(len(df)))*100"
   ]
  },
  {
   "cell_type": "markdown",
   "metadata": {},
   "source": [
    "La trasmissione è il dato più sporco, con l'11% di dati NaN"
   ]
  },
  {
   "cell_type": "code",
   "execution_count": 17,
   "metadata": {},
   "outputs": [
    {
     "data": {
      "text/plain": [
       "Ford         93554\n",
       "Chevrolet    60197\n",
       "Nissan       53946\n",
       "Toyota       39871\n",
       "Dodge        30710\n",
       "Name: make, dtype: int64"
      ]
     },
     "execution_count": 17,
     "metadata": {},
     "output_type": "execute_result"
    }
   ],
   "source": [
    "#MARCHE PIU' VENDUTE\n",
    "df[\"make\"].value_counts().head(5)"
   ]
  },
  {
   "cell_type": "code",
   "execution_count": 18,
   "metadata": {},
   "outputs": [
    {
     "data": {
      "text/plain": [
       "Sedan        199437\n",
       "SUV          119292\n",
       "sedan         41906\n",
       "suv           24552\n",
       "Hatchback     21380\n",
       "Name: body, dtype: int64"
      ]
     },
     "execution_count": 18,
     "metadata": {},
     "output_type": "execute_result"
    }
   ],
   "source": [
    "#TIPOLOGIA DI MACCHINE PIU' VENDUTE\n",
    "df[\"body\"].value_counts().head(5)"
   ]
  },
  {
   "cell_type": "code",
   "execution_count": 19,
   "metadata": {},
   "outputs": [
    {
     "data": {
      "text/plain": [
       "automatic    475915\n",
       "manual        17544\n",
       "sedan            15\n",
       "Sedan            11\n",
       "Name: transmission, dtype: int64"
      ]
     },
     "execution_count": 19,
     "metadata": {},
     "output_type": "execute_result"
    }
   ],
   "source": [
    "df[\"transmission\"].value_counts()"
   ]
  },
  {
   "cell_type": "code",
   "execution_count": 20,
   "metadata": {},
   "outputs": [
    {
     "data": {
      "text/plain": [
       "black        244329\n",
       "gray         178581\n",
       "beige         59758\n",
       "tan           44093\n",
       "—             17077\n",
       "brown          8640\n",
       "red            1363\n",
       "blue           1143\n",
       "silver         1104\n",
       "off-white       480\n",
       "purple          339\n",
       "gold            324\n",
       "white           256\n",
       "green           245\n",
       "burgundy        191\n",
       "orange          145\n",
       "yellow           20\n",
       "Name: interior, dtype: int64"
      ]
     },
     "execution_count": 20,
     "metadata": {},
     "output_type": "execute_result"
    }
   ],
   "source": [
    "df[\"interior\"].value_counts()"
   ]
  },
  {
   "cell_type": "code",
   "execution_count": 21,
   "metadata": {},
   "outputs": [
    {
     "data": {
      "text/plain": [
       "Sedan          199437\n",
       "SUV            119292\n",
       "sedan           41906\n",
       "suv             24552\n",
       "Hatchback       21380\n",
       "                ...  \n",
       "cab plus 4          1\n",
       "g37 coupe           1\n",
       "CTS-V Wagon         1\n",
       "Ram Van             1\n",
       "cts wagon           1\n",
       "Name: body, Length: 87, dtype: int64"
      ]
     },
     "execution_count": 21,
     "metadata": {},
     "output_type": "execute_result"
    }
   ],
   "source": [
    "df[\"body\"].value_counts()"
   ]
  },
  {
   "cell_type": "code",
   "execution_count": 22,
   "metadata": {},
   "outputs": [
    {
     "data": {
      "text/plain": [
       "black        244329\n",
       "gray         178581\n",
       "beige         59758\n",
       "tan           44093\n",
       "—             17077\n",
       "brown          8640\n",
       "red            1363\n",
       "blue           1143\n",
       "silver         1104\n",
       "off-white       480\n",
       "purple          339\n",
       "gold            324\n",
       "white           256\n",
       "green           245\n",
       "burgundy        191\n",
       "orange          145\n",
       "yellow           20\n",
       "Name: interior, dtype: int64"
      ]
     },
     "execution_count": 22,
     "metadata": {},
     "output_type": "execute_result"
    }
   ],
   "source": [
    "df[\"interior\"].value_counts()"
   ]
  },
  {
   "cell_type": "code",
   "execution_count": 23,
   "metadata": {},
   "outputs": [
    {
     "data": {
      "image/png": "[encoded data removed]",
      "text/plain": [
       "<Figure size 2000x600 with 1 Axes>"
      ]
     },
     "metadata": {},
     "output_type": "display_data"
    }
   ],
   "source": [
    "plt.figure(figsize=(20, 6))\n",
    "df['body'].value_counts().plot(kind='bar', color='green')\n",
    "plt.title('Distribution of Cars by Body Type')\n",
    "plt.xlabel('Body Type')\n",
    "plt.ylabel('Count')\n",
    "plt.xticks(rotation=90, ha='right')\n",
    "plt.show()"
   ]
  },
  {
   "cell_type": "code",
   "execution_count": 24,
   "metadata": {},
   "outputs": [
    {
     "data": {
      "image/png": "[encoded data removed]",
      "text/plain": [
       "<Figure size 2000x1000 with 1 Axes>"
      ]
     },
     "metadata": {},
     "output_type": "display_data"
    }
   ],
   "source": [
    "plt.figure(figsize=(20, 10))\n",
    "df['mmr'].hist()\n",
    "plt.title('Kilometraggio delle macchine')\n",
    "plt.xlabel('Kilometraggio al momento della vendita')\n",
    "plt.ylabel('Nuero macchine vendute')\n",
    "plt.xticks(rotation=20, ha='right')\n",
    "plt.locator_params(axis='x', nbins=20) \n",
    "plt.show()"
   ]
  },
  {
   "cell_type": "code",
   "execution_count": 25,
   "metadata": {},
   "outputs": [
    {
     "data": {
      "image/png": "[encoded data removed]",
      "text/plain": [
       "<Figure size 1000x500 with 1 Axes>"
      ]
     },
     "metadata": {},
     "output_type": "display_data"
    }
   ],
   "source": [
    "plt.figure(figsize=(10, 5))\n",
    "df['sellingprice'].hist()\n",
    "plt.title('prezzo di vendita')\n",
    "plt.xlabel('prezzo in dollari')\n",
    "plt.ylabel('numero di macchine vendute')\n",
    "plt.xticks(rotation=20, ha='right') \n",
    "plt.locator_params(axis='x', nbins=20) \n",
    "plt.show()"
   ]
  },
  {
   "cell_type": "code",
   "execution_count": 26,
   "metadata": {},
   "outputs": [
    {
     "data": {
      "text/plain": [
       "year                34\n",
       "make                96\n",
       "model              973\n",
       "trim              1963\n",
       "body                87\n",
       "transmission         4\n",
       "vin             550297\n",
       "state               64\n",
       "condition           41\n",
       "odometer        172278\n",
       "color               46\n",
       "interior            17\n",
       "seller           14263\n",
       "mmr               1101\n",
       "sellingprice      1887\n",
       "saledate          3766\n",
       "dtype: int64"
      ]
     },
     "execution_count": 26,
     "metadata": {},
     "output_type": "execute_result"
    }
   ],
   "source": [
    "#NUMERO DI ENTRATE UNICHE PER OGNI CATEGORIA\n",
    "df.nunique()"
   ]
  },
  {
   "cell_type": "code",
   "execution_count": 27,
   "metadata": {},
   "outputs": [],
   "source": [
    "percentage_null = (df.isnull().sum()/(len(df)))*100"
   ]
  },
  {
   "cell_type": "markdown",
   "metadata": {},
   "source": [
    "# PULIZIA DATI"
   ]
  },
  {
   "cell_type": "markdown",
   "metadata": {},
   "source": [
    "### Pulizia None"
   ]
  },
  {
   "cell_type": "code",
   "execution_count": 28,
   "metadata": {},
   "outputs": [],
   "source": [
    "df.dropna(subset=['vin'], inplace=True)\n",
    "df.dropna(subset=['saledate'], inplace=True)"
   ]
  },
  {
   "cell_type": "code",
   "execution_count": 29,
   "metadata": {},
   "outputs": [
    {
     "data": {
      "text/plain": [
       "0"
      ]
     },
     "execution_count": 29,
     "metadata": {},
     "output_type": "execute_result"
    }
   ],
   "source": [
    "df[\"vin\"].isnull().sum()"
   ]
  },
  {
   "cell_type": "code",
   "execution_count": 30,
   "metadata": {},
   "outputs": [
    {
     "ename": "TypeError",
     "evalue": "barh() missing 1 required positional argument: 'width'",
     "output_type": "error",
     "traceback": [
      "\u001b[0;31m---------------------------------------------------------------------------\u001b[0m",
      "\u001b[0;31mTypeError\u001b[0m                                 Traceback (most recent call last)",
      "Cell \u001b[0;32mIn[30], line 1\u001b[0m\n\u001b[0;32m----> 1\u001b[0m \u001b[43mplt\u001b[49m\u001b[38;5;241;43m.\u001b[39;49m\u001b[43mbarh\u001b[49m\u001b[43m(\u001b[49m\u001b[43my\u001b[49m\u001b[38;5;241;43m=\u001b[39;49m\u001b[43m \u001b[49m\u001b[43mdf\u001b[49m\u001b[43m[\u001b[49m\u001b[38;5;124;43m\"\u001b[39;49m\u001b[38;5;124;43mtransmission\u001b[39;49m\u001b[38;5;124;43m\"\u001b[39;49m\u001b[43m]\u001b[49m\u001b[43m)\u001b[49m\n\u001b[1;32m      2\u001b[0m \u001b[38;5;124;03m'''plt.title('Kilometraggio delle macchine')\u001b[39;00m\n\u001b[1;32m      3\u001b[0m \u001b[38;5;124;03mplt.xlabel('Kilometraggio al momento della vendita')\u001b[39;00m\n\u001b[1;32m      4\u001b[0m \u001b[38;5;124;03mplt.ylabel('Nuero macchine vendute')\u001b[39;00m\n\u001b[1;32m      5\u001b[0m \u001b[38;5;124;03mplt.xticks(rotation=20, ha='right')\u001b[39;00m\n\u001b[1;32m      6\u001b[0m \u001b[38;5;124;03mplt.locator_params(axis='x', nbins=20) \u001b[39;00m\n\u001b[1;32m      7\u001b[0m \u001b[38;5;124;03mplt.show()'''\u001b[39;00m\n",
      "\u001b[0;31mTypeError\u001b[0m: barh() missing 1 required positional argument: 'width'"
     ]
    }
   ],
   "source": [
    "plt.barh(y= df[\"transmission\"])\n",
    "'''plt.title('Kilometraggio delle macchine')\n",
    "plt.xlabel('Kilometraggio al momento della vendita')\n",
    "plt.ylabel('Nuero macchine vendute')\n",
    "plt.xticks(rotation=20, ha='right')\n",
    "plt.locator_params(axis='x', nbins=20) \n",
    "plt.show()'''"
   ]
  },
  {
   "cell_type": "code",
   "execution_count": null,
   "metadata": {},
   "outputs": [],
   "source": [
    "df[\"make\"].fillna(\"Other\", inplace= True)\n",
    "df['model'].fillna('Other', inplace=True)\n",
    "df['trim'].fillna('Other', inplace=True)\n",
    "df['color'].fillna('Other', inplace=True)"
   ]
  },
  {
   "cell_type": "code",
   "execution_count": null,
   "metadata": {},
   "outputs": [],
   "source": []
  },
  {
   "cell_type": "code",
   "execution_count": null,
   "metadata": {},
   "outputs": [],
   "source": [
    "df[\"transmission\"].fillna(df['transmission'].mode()[0], inplace=True)\n",
    "df[\"body\"].fillna(df[\"body\"].mode()[0], inplace=True)\n",
    "df[\"interior\"].fillna(df[\"interior\"].mode()[0], inplace=True)"
   ]
  },
  {
   "cell_type": "code",
   "execution_count": null,
   "metadata": {},
   "outputs": [
    {
     "data": {
      "text/plain": [
       "year                0\n",
       "make                0\n",
       "model               0\n",
       "trim                0\n",
       "body                0\n",
       "transmission        0\n",
       "vin                 0\n",
       "state               0\n",
       "condition       11816\n",
       "odometer           94\n",
       "color               0\n",
       "interior            0\n",
       "seller              0\n",
       "mmr                22\n",
       "sellingprice        0\n",
       "saledate            0\n",
       "dtype: int64"
      ]
     },
     "execution_count": 25,
     "metadata": {},
     "output_type": "execute_result"
    }
   ],
   "source": [
    "df.isnull().sum()"
   ]
  },
  {
   "cell_type": "markdown",
   "metadata": {},
   "source": [
    "### Pulizia None numerici"
   ]
  },
  {
   "cell_type": "code",
   "execution_count": null,
   "metadata": {},
   "outputs": [],
   "source": [
    "df['condition'].fillna(df['condition'].mean(), inplace=True)\n",
    "df['odometer'].fillna(df['odometer'].mean(), inplace=True)\n",
    "df['mmr'].fillna(df['mmr'].mean(), inplace=True)"
   ]
  },
  {
   "cell_type": "code",
   "execution_count": null,
   "metadata": {},
   "outputs": [
    {
     "data": {
      "text/plain": [
       "year            0\n",
       "make            0\n",
       "model           0\n",
       "trim            0\n",
       "body            0\n",
       "transmission    0\n",
       "vin             0\n",
       "state           0\n",
       "condition       0\n",
       "odometer        0\n",
       "color           0\n",
       "interior        0\n",
       "seller          0\n",
       "mmr             0\n",
       "sellingprice    0\n",
       "saledate        0\n",
       "dtype: int64"
      ]
     },
     "execution_count": 27,
     "metadata": {},
     "output_type": "execute_result"
    }
   ],
   "source": [
    "df.isnull().sum()"
   ]
  },
  {
   "cell_type": "markdown",
   "metadata": {},
   "source": [
    "### PULIZIA DUPLICATI"
   ]
  },
  {
   "cell_type": "code",
   "execution_count": null,
   "metadata": {},
   "outputs": [
    {
     "data": {
      "text/plain": [
       "8536"
      ]
     },
     "execution_count": 28,
     "metadata": {},
     "output_type": "execute_result"
    }
   ],
   "source": [
    "#DATI DUPLICATI NELLA COLONNA VIN\n",
    "df.duplicated(\"vin\").sum()"
   ]
  },
  {
   "cell_type": "code",
   "execution_count": null,
   "metadata": {},
   "outputs": [
    {
     "data": {
      "text/html": [
       "<div>\n",
       "<style scoped>\n",
       "    .dataframe tbody tr th:only-of-type {\n",
       "        vertical-align: middle;\n",
       "    }\n",
       "\n",
       "    .dataframe tbody tr th {\n",
       "        vertical-align: top;\n",
       "    }\n",
       "\n",
       "    .dataframe thead th {\n",
       "        text-align: right;\n",
       "    }\n",
       "</style>\n",
       "<table border=\"1\" class=\"dataframe\">\n",
       "  <thead>\n",
       "    <tr style=\"text-align: right;\">\n",
       "      <th></th>\n",
       "      <th>year</th>\n",
       "      <th>make</th>\n",
       "      <th>model</th>\n",
       "      <th>trim</th>\n",
       "      <th>body</th>\n",
       "      <th>transmission</th>\n",
       "      <th>vin</th>\n",
       "      <th>state</th>\n",
       "      <th>condition</th>\n",
       "      <th>odometer</th>\n",
       "      <th>color</th>\n",
       "      <th>interior</th>\n",
       "      <th>seller</th>\n",
       "      <th>mmr</th>\n",
       "      <th>sellingprice</th>\n",
       "      <th>saledate</th>\n",
       "    </tr>\n",
       "  </thead>\n",
       "  <tbody>\n",
       "    <tr>\n",
       "      <th>534431</th>\n",
       "      <td>2013</td>\n",
       "      <td>GMC</td>\n",
       "      <td>Sierra 1500</td>\n",
       "      <td>SLE</td>\n",
       "      <td>crew cab</td>\n",
       "      <td>automatic</td>\n",
       "      <td>3gtp2ve76dg267284</td>\n",
       "      <td>pa</td>\n",
       "      <td>49.0</td>\n",
       "      <td>31237.0</td>\n",
       "      <td>black</td>\n",
       "      <td>black</td>\n",
       "      <td>usautoland inc</td>\n",
       "      <td>27800.0</td>\n",
       "      <td>27200.0</td>\n",
       "      <td>Fri Jun 12 2015 02:00:00 GMT-0700 (PDT)</td>\n",
       "    </tr>\n",
       "    <tr>\n",
       "      <th>384812</th>\n",
       "      <td>2005</td>\n",
       "      <td>Nissan</td>\n",
       "      <td>Altima</td>\n",
       "      <td>3.5 SL</td>\n",
       "      <td>Sedan</td>\n",
       "      <td>automatic</td>\n",
       "      <td>1n4bl11d25c113788</td>\n",
       "      <td>ca</td>\n",
       "      <td>21.0</td>\n",
       "      <td>67305.0</td>\n",
       "      <td>silver</td>\n",
       "      <td>black</td>\n",
       "      <td>aaero sweet corporation</td>\n",
       "      <td>4300.0</td>\n",
       "      <td>6800.0</td>\n",
       "      <td>Wed Mar 04 2015 03:30:00 GMT-0800 (PST)</td>\n",
       "    </tr>\n",
       "    <tr>\n",
       "      <th>77487</th>\n",
       "      <td>2006</td>\n",
       "      <td>Ford</td>\n",
       "      <td>Explorer</td>\n",
       "      <td>XLT</td>\n",
       "      <td>SUV</td>\n",
       "      <td>automatic</td>\n",
       "      <td>1fmeu63e56ub65527</td>\n",
       "      <td>fl</td>\n",
       "      <td>21.0</td>\n",
       "      <td>96534.0</td>\n",
       "      <td>black</td>\n",
       "      <td>tan</td>\n",
       "      <td>meridian remarketing</td>\n",
       "      <td>4900.0</td>\n",
       "      <td>3100.0</td>\n",
       "      <td>Tue Jan 20 2015 01:15:00 GMT-0800 (PST)</td>\n",
       "    </tr>\n",
       "    <tr>\n",
       "      <th>287098</th>\n",
       "      <td>2009</td>\n",
       "      <td>Dodge</td>\n",
       "      <td>Caliber</td>\n",
       "      <td>SXT</td>\n",
       "      <td>Wagon</td>\n",
       "      <td>automatic</td>\n",
       "      <td>1b3hb48a59d143132</td>\n",
       "      <td>ca</td>\n",
       "      <td>24.0</td>\n",
       "      <td>111880.0</td>\n",
       "      <td>white</td>\n",
       "      <td>black</td>\n",
       "      <td>tdaf remarketing</td>\n",
       "      <td>4025.0</td>\n",
       "      <td>3900.0</td>\n",
       "      <td>Tue Feb 10 2015 04:30:00 GMT-0800 (PST)</td>\n",
       "    </tr>\n",
       "    <tr>\n",
       "      <th>515021</th>\n",
       "      <td>2008</td>\n",
       "      <td>BMW</td>\n",
       "      <td>X5</td>\n",
       "      <td>3.0si</td>\n",
       "      <td>suv</td>\n",
       "      <td>automatic</td>\n",
       "      <td>5uxfe43548l036082</td>\n",
       "      <td>nc</td>\n",
       "      <td>4.0</td>\n",
       "      <td>84747.0</td>\n",
       "      <td>gray</td>\n",
       "      <td>brown</td>\n",
       "      <td>atlantic coast remarketing inc/kdi</td>\n",
       "      <td>15350.0</td>\n",
       "      <td>15900.0</td>\n",
       "      <td>Mon Jun 08 2015 02:30:00 GMT-0700 (PDT)</td>\n",
       "    </tr>\n",
       "  </tbody>\n",
       "</table>\n",
       "</div>"
      ],
      "text/plain": [
       "        year    make        model    trim      body transmission  \\\n",
       "534431  2013     GMC  Sierra 1500     SLE  crew cab    automatic   \n",
       "384812  2005  Nissan       Altima  3.5 SL     Sedan    automatic   \n",
       "77487   2006    Ford     Explorer     XLT       SUV    automatic   \n",
       "287098  2009   Dodge      Caliber     SXT     Wagon    automatic   \n",
       "515021  2008     BMW           X5   3.0si       suv    automatic   \n",
       "\n",
       "                      vin state  condition  odometer   color interior  \\\n",
       "534431  3gtp2ve76dg267284    pa       49.0   31237.0   black    black   \n",
       "384812  1n4bl11d25c113788    ca       21.0   67305.0  silver    black   \n",
       "77487   1fmeu63e56ub65527    fl       21.0   96534.0   black      tan   \n",
       "287098  1b3hb48a59d143132    ca       24.0  111880.0   white    black   \n",
       "515021  5uxfe43548l036082    nc        4.0   84747.0    gray    brown   \n",
       "\n",
       "                                    seller      mmr  sellingprice  \\\n",
       "534431                      usautoland inc  27800.0       27200.0   \n",
       "384812             aaero sweet corporation   4300.0        6800.0   \n",
       "77487                 meridian remarketing   4900.0        3100.0   \n",
       "287098                    tdaf remarketing   4025.0        3900.0   \n",
       "515021  atlantic coast remarketing inc/kdi  15350.0       15900.0   \n",
       "\n",
       "                                       saledate  \n",
       "534431  Fri Jun 12 2015 02:00:00 GMT-0700 (PDT)  \n",
       "384812  Wed Mar 04 2015 03:30:00 GMT-0800 (PST)  \n",
       "77487   Tue Jan 20 2015 01:15:00 GMT-0800 (PST)  \n",
       "287098  Tue Feb 10 2015 04:30:00 GMT-0800 (PST)  \n",
       "515021  Mon Jun 08 2015 02:30:00 GMT-0700 (PDT)  "
      ]
     },
     "execution_count": 29,
     "metadata": {},
     "output_type": "execute_result"
    }
   ],
   "source": [
    "df[df.duplicated(\"vin\")].sample(5)"
   ]
  },
  {
   "cell_type": "code",
   "execution_count": null,
   "metadata": {},
   "outputs": [
    {
     "data": {
      "text/html": [
       "<div>\n",
       "<style scoped>\n",
       "    .dataframe tbody tr th:only-of-type {\n",
       "        vertical-align: middle;\n",
       "    }\n",
       "\n",
       "    .dataframe tbody tr th {\n",
       "        vertical-align: top;\n",
       "    }\n",
       "\n",
       "    .dataframe thead th {\n",
       "        text-align: right;\n",
       "    }\n",
       "</style>\n",
       "<table border=\"1\" class=\"dataframe\">\n",
       "  <thead>\n",
       "    <tr style=\"text-align: right;\">\n",
       "      <th></th>\n",
       "      <th>year</th>\n",
       "      <th>make</th>\n",
       "      <th>model</th>\n",
       "      <th>trim</th>\n",
       "      <th>body</th>\n",
       "      <th>transmission</th>\n",
       "      <th>vin</th>\n",
       "      <th>state</th>\n",
       "      <th>condition</th>\n",
       "      <th>odometer</th>\n",
       "      <th>color</th>\n",
       "      <th>interior</th>\n",
       "      <th>seller</th>\n",
       "      <th>mmr</th>\n",
       "      <th>sellingprice</th>\n",
       "      <th>saledate</th>\n",
       "    </tr>\n",
       "  </thead>\n",
       "  <tbody>\n",
       "    <tr>\n",
       "      <th>135919</th>\n",
       "      <td>2008</td>\n",
       "      <td>Nissan</td>\n",
       "      <td>Sentra</td>\n",
       "      <td>2</td>\n",
       "      <td>Sedan</td>\n",
       "      <td>automatic</td>\n",
       "      <td>3n1ab61e58l718656</td>\n",
       "      <td>ca</td>\n",
       "      <td>29.0</td>\n",
       "      <td>91830.0</td>\n",
       "      <td>white</td>\n",
       "      <td>beige</td>\n",
       "      <td>ideal transportation</td>\n",
       "      <td>4725.0</td>\n",
       "      <td>4900.0</td>\n",
       "      <td>Wed Jan 14 2015 04:30:00 GMT-0800 (PST)</td>\n",
       "    </tr>\n",
       "    <tr>\n",
       "      <th>296867</th>\n",
       "      <td>2008</td>\n",
       "      <td>Nissan</td>\n",
       "      <td>Sentra</td>\n",
       "      <td>2</td>\n",
       "      <td>Sedan</td>\n",
       "      <td>automatic</td>\n",
       "      <td>3n1ab61e58l718656</td>\n",
       "      <td>ca</td>\n",
       "      <td>29.0</td>\n",
       "      <td>91934.0</td>\n",
       "      <td>white</td>\n",
       "      <td>beige</td>\n",
       "      <td>ideal transportation</td>\n",
       "      <td>4825.0</td>\n",
       "      <td>5500.0</td>\n",
       "      <td>Wed Feb 11 2015 04:30:00 GMT-0800 (PST)</td>\n",
       "    </tr>\n",
       "  </tbody>\n",
       "</table>\n",
       "</div>"
      ],
      "text/plain": [
       "        year    make   model trim   body transmission                vin  \\\n",
       "135919  2008  Nissan  Sentra    2  Sedan    automatic  3n1ab61e58l718656   \n",
       "296867  2008  Nissan  Sentra    2  Sedan    automatic  3n1ab61e58l718656   \n",
       "\n",
       "       state  condition  odometer  color interior                seller  \\\n",
       "135919    ca       29.0   91830.0  white    beige  ideal transportation   \n",
       "296867    ca       29.0   91934.0  white    beige  ideal transportation   \n",
       "\n",
       "           mmr  sellingprice                                 saledate  \n",
       "135919  4725.0        4900.0  Wed Jan 14 2015 04:30:00 GMT-0800 (PST)  \n",
       "296867  4825.0        5500.0  Wed Feb 11 2015 04:30:00 GMT-0800 (PST)  "
      ]
     },
     "execution_count": 30,
     "metadata": {},
     "output_type": "execute_result"
    }
   ],
   "source": [
    "#IN QUESTO CASO LA MACCHINA E' STATA RIVENDUTA DOPO POCO\n",
    "df[df[\"vin\"]==\"3n1ab61e58l718656\"]"
   ]
  },
  {
   "cell_type": "code",
   "execution_count": null,
   "metadata": {},
   "outputs": [
    {
     "data": {
      "text/html": [
       "<div>\n",
       "<style scoped>\n",
       "    .dataframe tbody tr th:only-of-type {\n",
       "        vertical-align: middle;\n",
       "    }\n",
       "\n",
       "    .dataframe tbody tr th {\n",
       "        vertical-align: top;\n",
       "    }\n",
       "\n",
       "    .dataframe thead th {\n",
       "        text-align: right;\n",
       "    }\n",
       "</style>\n",
       "<table border=\"1\" class=\"dataframe\">\n",
       "  <thead>\n",
       "    <tr style=\"text-align: right;\">\n",
       "      <th></th>\n",
       "      <th>year</th>\n",
       "      <th>make</th>\n",
       "      <th>model</th>\n",
       "      <th>trim</th>\n",
       "      <th>body</th>\n",
       "      <th>transmission</th>\n",
       "      <th>vin</th>\n",
       "      <th>state</th>\n",
       "      <th>condition</th>\n",
       "      <th>odometer</th>\n",
       "      <th>color</th>\n",
       "      <th>interior</th>\n",
       "      <th>seller</th>\n",
       "      <th>mmr</th>\n",
       "      <th>sellingprice</th>\n",
       "      <th>saledate</th>\n",
       "    </tr>\n",
       "  </thead>\n",
       "  <tbody>\n",
       "    <tr>\n",
       "      <th>79761</th>\n",
       "      <td>2012</td>\n",
       "      <td>Ford</td>\n",
       "      <td>Fusion</td>\n",
       "      <td>SE</td>\n",
       "      <td>Sedan</td>\n",
       "      <td>automatic</td>\n",
       "      <td>3fahp0ha8cr441199</td>\n",
       "      <td>nj</td>\n",
       "      <td>19.0</td>\n",
       "      <td>46009.0</td>\n",
       "      <td>silver</td>\n",
       "      <td>black</td>\n",
       "      <td>emkay inc</td>\n",
       "      <td>10750.0</td>\n",
       "      <td>7200.0</td>\n",
       "      <td>Wed Jan 21 2015 01:30:00 GMT-0800 (PST)</td>\n",
       "    </tr>\n",
       "    <tr>\n",
       "      <th>256825</th>\n",
       "      <td>2012</td>\n",
       "      <td>Ford</td>\n",
       "      <td>Fusion</td>\n",
       "      <td>SE</td>\n",
       "      <td>Sedan</td>\n",
       "      <td>automatic</td>\n",
       "      <td>3fahp0ha8cr441199</td>\n",
       "      <td>nc</td>\n",
       "      <td>22.0</td>\n",
       "      <td>46019.0</td>\n",
       "      <td>silver</td>\n",
       "      <td>gray</td>\n",
       "      <td>fleet lease remarketing</td>\n",
       "      <td>11100.0</td>\n",
       "      <td>7800.0</td>\n",
       "      <td>Mon Feb 23 2015 01:30:00 GMT-0800 (PST)</td>\n",
       "    </tr>\n",
       "    <tr>\n",
       "      <th>432202</th>\n",
       "      <td>2012</td>\n",
       "      <td>Ford</td>\n",
       "      <td>Fusion</td>\n",
       "      <td>SE</td>\n",
       "      <td>Sedan</td>\n",
       "      <td>automatic</td>\n",
       "      <td>3fahp0ha8cr441199</td>\n",
       "      <td>nc</td>\n",
       "      <td>21.0</td>\n",
       "      <td>47270.0</td>\n",
       "      <td>silver</td>\n",
       "      <td>black</td>\n",
       "      <td>cella ford inc</td>\n",
       "      <td>10600.0</td>\n",
       "      <td>9800.0</td>\n",
       "      <td>Mon Jun 01 2015 02:30:00 GMT-0700 (PDT)</td>\n",
       "    </tr>\n",
       "  </tbody>\n",
       "</table>\n",
       "</div>"
      ],
      "text/plain": [
       "        year  make   model trim   body transmission                vin state  \\\n",
       "79761   2012  Ford  Fusion   SE  Sedan    automatic  3fahp0ha8cr441199    nj   \n",
       "256825  2012  Ford  Fusion   SE  Sedan    automatic  3fahp0ha8cr441199    nc   \n",
       "432202  2012  Ford  Fusion   SE  Sedan    automatic  3fahp0ha8cr441199    nc   \n",
       "\n",
       "        condition  odometer   color interior                   seller  \\\n",
       "79761        19.0   46009.0  silver    black                emkay inc   \n",
       "256825       22.0   46019.0  silver     gray  fleet lease remarketing   \n",
       "432202       21.0   47270.0  silver    black           cella ford inc   \n",
       "\n",
       "            mmr  sellingprice                                 saledate  \n",
       "79761   10750.0        7200.0  Wed Jan 21 2015 01:30:00 GMT-0800 (PST)  \n",
       "256825  11100.0        7800.0  Mon Feb 23 2015 01:30:00 GMT-0800 (PST)  \n",
       "432202  10600.0        9800.0  Mon Jun 01 2015 02:30:00 GMT-0700 (PDT)  "
      ]
     },
     "execution_count": 31,
     "metadata": {},
     "output_type": "execute_result"
    }
   ],
   "source": [
    "#ANCHE IN QUESTO CASO LA MACCHINA E' STATA VENDUTA PIU' VOLTE\n",
    "df[df[\"vin\"]==\"3fahp0ha8cr441199\"]"
   ]
  },
  {
   "cell_type": "code",
   "execution_count": null,
   "metadata": {},
   "outputs": [],
   "source": [
    "#RIMUOVIAMO VIN DUPLICATI DAL DATASET\n",
    "df.drop_duplicates(subset=[\"vin\"],keep=\"last\",inplace=True)"
   ]
  },
  {
   "cell_type": "code",
   "execution_count": null,
   "metadata": {},
   "outputs": [
    {
     "data": {
      "text/plain": [
       "0"
      ]
     },
     "execution_count": 33,
     "metadata": {},
     "output_type": "execute_result"
    }
   ],
   "source": [
    "df.duplicated(\"vin\").sum()"
   ]
  },
  {
   "cell_type": "code",
   "execution_count": null,
   "metadata": {},
   "outputs": [
    {
     "data": {
      "text/plain": [
       "3vwd17aj2fm261566        1\n",
       "al                      26\n",
       "ns                      61\n",
       "ok                      72\n",
       "nm                     171\n",
       "ab                     915\n",
       "or                    1151\n",
       "qc                    1210\n",
       "hi                    1230\n",
       "ut                    1808\n",
       "ms                    1841\n",
       "la                    2171\n",
       "pr                    2704\n",
       "on                    3395\n",
       "ne                    3975\n",
       "sc                    4211\n",
       "in                    4221\n",
       "ny                    5584\n",
       "ma                    6676\n",
       "wa                    7377\n",
       "co                    7747\n",
       "az                    8663\n",
       "mn                    9371\n",
       "wi                    9775\n",
       "md                   11016\n",
       "va                   11757\n",
       "nv                   12420\n",
       "mi                   15217\n",
       "mo                   15830\n",
       "tn                   20658\n",
       "oh                   21330\n",
       "nc                   21464\n",
       "il                   23245\n",
       "nj                   27342\n",
       "ga                   34087\n",
       "tx                   45235\n",
       "pa                   52952\n",
       "ca                   71582\n",
       "fl                   81794\n",
       "Name: state, dtype: int64"
      ]
     },
     "execution_count": 34,
     "metadata": {},
     "output_type": "execute_result"
    }
   ],
   "source": [
    "df[\"state\"].value_counts().sort_values(ascending=True)"
   ]
  },
  {
   "cell_type": "code",
   "execution_count": null,
   "metadata": {},
   "outputs": [
    {
     "data": {
      "text/plain": [
       "fl                   81794\n",
       "ca                   71582\n",
       "pa                   52952\n",
       "tx                   45235\n",
       "ga                   34087\n",
       "nj                   27342\n",
       "il                   23245\n",
       "nc                   21464\n",
       "oh                   21330\n",
       "tn                   20658\n",
       "mo                   15830\n",
       "mi                   15217\n",
       "nv                   12420\n",
       "va                   11757\n",
       "md                   11016\n",
       "wi                    9775\n",
       "mn                    9371\n",
       "az                    8663\n",
       "co                    7747\n",
       "wa                    7377\n",
       "ma                    6676\n",
       "ny                    5584\n",
       "in                    4221\n",
       "sc                    4211\n",
       "ne                    3975\n",
       "on                    3395\n",
       "pr                    2704\n",
       "la                    2171\n",
       "ms                    1841\n",
       "ut                    1808\n",
       "hi                    1230\n",
       "qc                    1210\n",
       "or                    1151\n",
       "ab                     915\n",
       "nm                     171\n",
       "ok                      72\n",
       "ns                      61\n",
       "al                      26\n",
       "3vwd17aj2fm261566        1\n",
       "Name: state, dtype: int64"
      ]
     },
     "execution_count": 35,
     "metadata": {},
     "output_type": "execute_result"
    }
   ],
   "source": [
    "df[\"state\"].value_counts()"
   ]
  },
  {
   "cell_type": "code",
   "execution_count": null,
   "metadata": {},
   "outputs": [],
   "source": [
    "df = df.drop(df[df['vin'] == '3vwd17aj2fm261566'].index)"
   ]
  },
  {
   "cell_type": "code",
   "execution_count": null,
   "metadata": {},
   "outputs": [],
   "source": []
  },
  {
   "cell_type": "code",
   "execution_count": null,
   "metadata": {},
   "outputs": [],
   "source": []
  },
  {
   "cell_type": "markdown",
   "metadata": {},
   "source": [
    "# Heatmap delle regressioni"
   ]
  },
  {
   "cell_type": "code",
   "execution_count": 44,
   "metadata": {},
   "outputs": [],
   "source": [
    "from scipy.stats import chi2_contingency"
   ]
  },
  {
   "cell_type": "code",
   "execution_count": 51,
   "metadata": {},
   "outputs": [],
   "source": [
    "pivot2 = pd.crosstab(\n",
    "    df['transmission'],\n",
    "    df[\"interior\"]\n",
    ")"
   ]
  },
  {
   "cell_type": "code",
   "execution_count": 54,
   "metadata": {},
   "outputs": [
    {
     "data": {
      "text/plain": [
       "Chi2ContingencyResult(statistic=5049.605971792382, pvalue=0.0, dof=48, expected_freq=array([[1.05748922e+00, 4.35282780e+00, 2.10601065e-02, 1.50301801e-01,\n",
       "        3.26654831e-03, 6.02586863e-03, 3.24642151e+00, 4.48389551e-03,\n",
       "        7.24321583e-03, 2.69845295e-03, 6.06644687e-03, 2.41237636e-02,\n",
       "        2.13238651e-02, 8.10611210e-01, 4.58534111e-03, 4.05782399e-04,\n",
       "        2.81065179e-01],\n",
       "       [5.02652122e+04, 2.06901223e+05, 1.00104162e+03, 7.14423537e+03,\n",
       "        1.55267534e+02, 2.86425203e+02, 1.54310855e+05, 2.13131212e+02,\n",
       "        3.44288881e+02, 1.28264485e+02, 2.88353992e+02, 1.14666521e+03,\n",
       "        1.01357875e+03, 3.85304584e+04, 2.17953185e+02, 1.92878925e+01,\n",
       "        1.33597587e+04],\n",
       "       [1.85346136e+03, 7.62920128e+03, 3.69120487e+01, 2.63433966e+02,\n",
       "        5.72527923e+00, 1.05615399e+01, 5.69000297e+03, 7.85892366e+00,\n",
       "        1.26951844e+01, 4.72957849e+00, 1.06326614e+01, 4.22817205e+01,\n",
       "        3.73743383e+01, 1.42075827e+03, 8.03672736e+00, 7.11214811e-01,\n",
       "        4.92622939e+02],\n",
       "       [1.26898707e+00, 5.22339336e+00, 2.52721278e-02, 1.80362161e-01,\n",
       "        3.91985798e-03, 7.23104235e-03, 3.89570581e+00, 5.38067461e-03,\n",
       "        8.69185899e-03, 3.23814355e-03, 7.27973624e-03, 2.89485164e-02,\n",
       "        2.55886381e-02, 9.72733452e-01, 5.50240933e-03, 4.86938879e-04,\n",
       "        3.37278215e-01]]))"
      ]
     },
     "execution_count": 54,
     "metadata": {},
     "output_type": "execute_result"
    }
   ],
   "source": [
    "chi2_contingency(pivot2)"
   ]
  },
  {
   "cell_type": "code",
   "execution_count": 37,
   "metadata": {},
   "outputs": [],
   "source": [
    "numerical_columns = df.select_dtypes(include=[\"int64\", \"float64\"]).columns\n"
   ]
  },
  {
   "cell_type": "code",
   "execution_count": 38,
   "metadata": {},
   "outputs": [
    {
     "data": {
      "text/html": [
       "<div>\n",
       "<style scoped>\n",
       "    .dataframe tbody tr th:only-of-type {\n",
       "        vertical-align: middle;\n",
       "    }\n",
       "\n",
       "    .dataframe tbody tr th {\n",
       "        vertical-align: top;\n",
       "    }\n",
       "\n",
       "    .dataframe thead th {\n",
       "        text-align: right;\n",
       "    }\n",
       "</style>\n",
       "<table border=\"1\" class=\"dataframe\">\n",
       "  <thead>\n",
       "    <tr style=\"text-align: right;\">\n",
       "      <th></th>\n",
       "      <th>year</th>\n",
       "      <th>condition</th>\n",
       "      <th>odometer</th>\n",
       "      <th>mmr</th>\n",
       "      <th>sellingprice</th>\n",
       "    </tr>\n",
       "  </thead>\n",
       "  <tbody>\n",
       "    <tr>\n",
       "      <th>year</th>\n",
       "      <td>1.000000</td>\n",
       "      <td>0.333234</td>\n",
       "      <td>-0.773843</td>\n",
       "      <td>0.597188</td>\n",
       "      <td>0.587163</td>\n",
       "    </tr>\n",
       "    <tr>\n",
       "      <th>condition</th>\n",
       "      <td>0.333234</td>\n",
       "      <td>1.000000</td>\n",
       "      <td>-0.313256</td>\n",
       "      <td>0.278936</td>\n",
       "      <td>0.318809</td>\n",
       "    </tr>\n",
       "    <tr>\n",
       "      <th>odometer</th>\n",
       "      <td>-0.773843</td>\n",
       "      <td>-0.313256</td>\n",
       "      <td>1.000000</td>\n",
       "      <td>-0.588893</td>\n",
       "      <td>-0.583494</td>\n",
       "    </tr>\n",
       "    <tr>\n",
       "      <th>mmr</th>\n",
       "      <td>0.597188</td>\n",
       "      <td>0.278936</td>\n",
       "      <td>-0.588893</td>\n",
       "      <td>1.000000</td>\n",
       "      <td>0.983835</td>\n",
       "    </tr>\n",
       "    <tr>\n",
       "      <th>sellingprice</th>\n",
       "      <td>0.587163</td>\n",
       "      <td>0.318809</td>\n",
       "      <td>-0.583494</td>\n",
       "      <td>0.983835</td>\n",
       "      <td>1.000000</td>\n",
       "    </tr>\n",
       "  </tbody>\n",
       "</table>\n",
       "</div>"
      ],
      "text/plain": [
       "                  year  condition  odometer       mmr  sellingprice\n",
       "year          1.000000   0.333234 -0.773843  0.597188      0.587163\n",
       "condition     0.333234   1.000000 -0.313256  0.278936      0.318809\n",
       "odometer     -0.773843  -0.313256  1.000000 -0.588893     -0.583494\n",
       "mmr           0.597188   0.278936 -0.588893  1.000000      0.983835\n",
       "sellingprice  0.587163   0.318809 -0.583494  0.983835      1.000000"
      ]
     },
     "execution_count": 38,
     "metadata": {},
     "output_type": "execute_result"
    }
   ],
   "source": [
    "df[numerical_columns].corr()"
   ]
  },
  {
   "cell_type": "code",
   "execution_count": 39,
   "metadata": {},
   "outputs": [
    {
     "data": {
      "image/png": "[encoded data removed]",
      "text/plain": [
       "<Figure size 800x600 with 2 Axes>"
      ]
     },
     "metadata": {},
     "output_type": "display_data"
    }
   ],
   "source": [
    "plt.figure(figsize=(8,6))\n",
    "sb.heatmap(data=df[numerical_columns].corr(), annot=True)\n",
    "plt.show()"
   ]
  },
  {
   "cell_type": "code",
   "execution_count": 40,
   "metadata": {},
   "outputs": [
    {
     "name": "stderr",
     "output_type": "stream",
     "text": [
      "/var/folders/r_/fs8t89rd1mzfn7vs0ld413940000gn/T/ipykernel_1970/1271627384.py:1: FutureWarning: The default value of numeric_only in DataFrame.corr is deprecated. In a future version, it will default to False. Select only valid columns or specify the value of numeric_only to silence this warning.\n",
      "  sb.heatmap(df.corr()[['sellingprice']].sort_values(by='sellingprice', ascending=False), annot=True)\n"
     ]
    },
    {
     "data": {
      "text/plain": [
       "<Axes: >"
      ]
     },
     "execution_count": 40,
     "metadata": {},
     "output_type": "execute_result"
    },
    {
     "data": {
      "image/png": "[encoded data removed]",
      "text/plain": [
       "<Figure size 640x480 with 2 Axes>"
      ]
     },
     "metadata": {},
     "output_type": "display_data"
    }
   ],
   "source": [
    "sb.heatmap(df.corr()[['sellingprice']].sort_values(by='sellingprice', ascending=False), annot=True)"
   ]
  },
  {
   "cell_type": "code",
   "execution_count": null,
   "metadata": {},
   "outputs": [],
   "source": []
  },
  {
   "cell_type": "markdown",
   "metadata": {},
   "source": [
    "# prova in classe\n"
   ]
  },
  {
   "cell_type": "code",
   "execution_count": null,
   "metadata": {},
   "outputs": [],
   "source": []
  }
 ],
 "metadata": {
  "kernelspec": {
   "display_name": "Python 3",
   "language": "python",
   "name": "python3"
  },
  "language_info": {
   "codemirror_mode": {
    "name": "ipython",
    "version": 3
   },
   "file_extension": ".py",
   "mimetype": "text/x-python",
   "name": "python",
   "nbconvert_exporter": "python",
   "pygments_lexer": "ipython3",
   "version": "3.9.6"
  }
 },
 "nbformat": 4,
 "nbformat_minor": 2
}
